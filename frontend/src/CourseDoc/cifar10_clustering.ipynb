{
 "cells": [
  {
   "cell_type": "markdown",
   "id": "bf2c7240",
   "metadata": {},
   "source": [
    "# CIFAR-10 Image Clustering (Unsupervised)\n",
    "_Last updated: 2025-08-14 08:34 UTC_\n",
    "\n",
    "**Goals**\n",
    "- Extract features (simple CNN or pretrained)\n",
    "- Reduce dimensionality (PCA/t-SNE/UMAP)\n",
    "- Cluster (KMeans) and evaluate with NMI/ARI"
   ]
  },
  {
   "cell_type": "code",
   "execution_count": null,
   "id": "04375695",
   "metadata": {},
   "outputs": [],
   "source": [
    "\n",
    "import numpy as np, matplotlib.pyplot as plt\n",
    "from sklearn.decomposition import PCA\n",
    "from sklearn.manifold import TSNE\n",
    "from sklearn.cluster import KMeans\n",
    "from sklearn.metrics import normalized_mutual_info_score, adjusted_rand_score\n",
    "import tensorflow as tf\n",
    "from tensorflow.keras.datasets import cifar10\n",
    "from tensorflow.keras.applications import MobileNetV2\n",
    "from tensorflow.keras.applications.mobilenet_v2 import preprocess_input\n",
    "%matplotlib inline\n"
   ]
  },
  {
   "cell_type": "markdown",
   "id": "6ae00e4f",
   "metadata": {},
   "source": [
    "## 1. Load CIFAR-10"
   ]
  },
  {
   "cell_type": "code",
   "execution_count": null,
   "id": "099d56a5",
   "metadata": {},
   "outputs": [],
   "source": [
    "\n",
    "(x_train, y_train), (x_test, y_test) = cifar10.load_data()\n",
    "x = x_test.astype('float32')\n",
    "y = y_test.flatten()\n",
    "x.shape, y.shape\n"
   ]
  },
  {
   "cell_type": "markdown",
   "id": "6d13e57e",
   "metadata": {},
   "source": [
    "## 2. Feature Extraction (pretrained MobileNetV2)"
   ]
  },
  {
   "cell_type": "code",
   "execution_count": null,
   "id": "6de2a038",
   "metadata": {},
   "outputs": [],
   "source": [
    "\n",
    "# Resize to 96x96 for MobileNetV2\n",
    "import tensorflow as tf\n",
    "x_resized = tf.image.resize(x, (96,96)).numpy()\n",
    "x_pp = preprocess_input(x_resized)\n",
    "base = MobileNetV2(include_top=False, pooling='avg', input_shape=(96,96,3), weights='imagenet')\n",
    "feat = base.predict(x_pp, batch_size=128, verbose=0)\n",
    "feat.shape\n"
   ]
  },
  {
   "cell_type": "markdown",
   "id": "0efa5b72",
   "metadata": {},
   "source": [
    "## 3. Dimensionality Reduction + Visualization"
   ]
  },
  {
   "cell_type": "code",
   "execution_count": null,
   "id": "5a1c16ff",
   "metadata": {},
   "outputs": [],
   "source": [
    "\n",
    "pca = PCA(n_components=50, random_state=0).fit_transform(feat)\n",
    "tsne = TSNE(n_components=2, init='pca', random_state=0, learning_rate='auto').fit_transform(pca)\n",
    "plt.figure(figsize=(6,6))\n",
    "plt.scatter(tsne[:,0], tsne[:,1], s=5, c=y, cmap='tab10')\n",
    "plt.title(\"t-SNE of features (color = true label)\")\n",
    "plt.show()\n"
   ]
  },
  {
   "cell_type": "markdown",
   "id": "d7891ede",
   "metadata": {},
   "source": [
    "## 4. Clustering & Metrics"
   ]
  },
  {
   "cell_type": "code",
   "execution_count": null,
   "id": "1016a864",
   "metadata": {},
   "outputs": [],
   "source": [
    "\n",
    "kmeans = KMeans(n_clusters=10, n_init=10, random_state=0).fit(feat)\n",
    "labels = kmeans.labels_\n",
    "nmi = normalized_mutual_info_score(y, labels)\n",
    "ari = adjusted_rand_score(y, labels)\n",
    "nmi, ari\n"
   ]
  },
  {
   "cell_type": "markdown",
   "id": "1c15ee6c",
   "metadata": {},
   "source": [
    "## 5. ✅ Exercises\n",
    "- Try KMeans on PCA-50 vs raw features\n",
    "- Swap MobileNetV2 for EfficientNetB0\n",
    "- Evaluate cluster purity by majority-vote mapping"
   ]
  }
 ],
 "metadata": {
  "kernelspec": {
   "display_name": "Python 3",
   "language": "python",
   "name": "python3"
  },
  "language_info": {
   "name": "python",
   "version": "3.x"
  }
 },
 "nbformat": 4,
 "nbformat_minor": 5
}
