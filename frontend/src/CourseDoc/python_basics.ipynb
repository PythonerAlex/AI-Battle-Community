{
 "cells": [
  {
   "cell_type": "markdown",
   "id": "a55b059c",
   "metadata": {},
   "source": [
    "# Python Basics\n",
    "_Last updated: 2025-08-14 08:34 UTC_\n",
    "\n",
    "**Goals**\n",
    "- Master core syntax (variables, flow control)\n",
    "- Functions & modules\n",
    "- Data structures (list/dict/set/tuple)\n",
    "- Classes & OOP basics\n",
    "- File I/O & exceptions\n",
    "\n",
    "> Work through each section and complete the exercises (✅ markers)."
   ]
  },
  {
   "cell_type": "markdown",
   "id": "d4002c7a",
   "metadata": {},
   "source": [
    "## 1. Warmup: Variables, Types, and F-strings"
   ]
  },
  {
   "cell_type": "code",
   "execution_count": null,
   "id": "18b8baf5",
   "metadata": {},
   "outputs": [],
   "source": [
    "\n",
    "x = 7\n",
    "y = 3.14\n",
    "msg = f\"x={x}, y={y}\"\n",
    "msg\n"
   ]
  },
  {
   "cell_type": "markdown",
   "id": "0caefd05",
   "metadata": {},
   "source": [
    "## 2. Collections: list / dict / set / tuple"
   ]
  },
  {
   "cell_type": "code",
   "execution_count": null,
   "id": "de1a9888",
   "metadata": {},
   "outputs": [],
   "source": [
    "\n",
    "nums = [3, 1, 4, 1, 5, 9]\n",
    "unique = set(nums)\n",
    "freq = {n: nums.count(n) for n in unique}\n",
    "nums_sorted = sorted(nums)\n",
    "(nums, unique, freq, nums_sorted[:3])\n"
   ]
  },
  {
   "cell_type": "markdown",
   "id": "814ff9a3",
   "metadata": {},
   "source": [
    "## 3. Control Flow & Comprehensions"
   ]
  },
  {
   "cell_type": "code",
   "execution_count": null,
   "id": "594c49ad",
   "metadata": {},
   "outputs": [],
   "source": [
    "\n",
    "def squares_below(n):\n",
    "    return [i*i for i in range(n) if i*i < n]\n",
    "squares_below(20)\n"
   ]
  },
  {
   "cell_type": "markdown",
   "id": "1c357567",
   "metadata": {},
   "source": [
    "## 4. Functions: parameters, *args, **kwargs"
   ]
  },
  {
   "cell_type": "code",
   "execution_count": null,
   "id": "589566b1",
   "metadata": {},
   "outputs": [],
   "source": [
    "\n",
    "def greet(name, punctuation='!'):\n",
    "    return f\"Hello, {name}{punctuation}\"\n",
    "def demo(*args, **kwargs):\n",
    "    return args, kwargs\n",
    "greet(\"Alex\"), demo(1,2, lang=\"Python\")\n"
   ]
  },
  {
   "cell_type": "markdown",
   "id": "2eecdb78",
   "metadata": {},
   "source": [
    "## 5. Modules & Virtual Environments (reading)\n",
    "- Use `pip install <pkg>` inside a venv\n",
    "- `import math, random, pathlib` etc.\n"
   ]
  },
  {
   "cell_type": "code",
   "execution_count": null,
   "id": "af77b188",
   "metadata": {},
   "outputs": [],
   "source": [
    "\n",
    "import math, random, statistics as stats\n",
    "random.seed(0)\n",
    "math.pi, random.randint(1,6), stats.mean([1,2,3])\n"
   ]
  },
  {
   "cell_type": "markdown",
   "id": "e72f1c21",
   "metadata": {},
   "source": [
    "## 6. Classes & OOP (✅ Exercise)"
   ]
  },
  {
   "cell_type": "code",
   "execution_count": null,
   "id": "f6bf50a6",
   "metadata": {},
   "outputs": [],
   "source": [
    "\n",
    "class Counter:\n",
    "    def __init__(self, start=0):\n",
    "        self.value = start\n",
    "    def inc(self, n=1):\n",
    "        self.value += n\n",
    "    def __repr__(self):\n",
    "        return f\"Counter(value={self.value})\"\n",
    "\n",
    "c = Counter()\n",
    "c.inc(); c.inc(5); c\n"
   ]
  },
  {
   "cell_type": "markdown",
   "id": "c5c11739",
   "metadata": {},
   "source": [
    "### ✅ Exercise: Implement a `Vector2D` class\n",
    "- Fields: `x`, `y`\n",
    "- Methods: `norm()`, `__add__`, `__sub__`, `__mul__` (scalar)\n",
    "- `__repr__` friendly string\n"
   ]
  },
  {
   "cell_type": "code",
   "execution_count": null,
   "id": "06d4ff38",
   "metadata": {},
   "outputs": [],
   "source": [
    "\n",
    "# Your turn:\n",
    "# class Vector2D:\n",
    "#     ...\n"
   ]
  },
  {
   "cell_type": "markdown",
   "id": "693a60b1",
   "metadata": {},
   "source": [
    "## 7. File I/O & Exceptions"
   ]
  },
  {
   "cell_type": "code",
   "execution_count": null,
   "id": "57765ba6",
   "metadata": {},
   "outputs": [],
   "source": [
    "\n",
    "from pathlib import Path\n",
    "p = Path('demo.txt')\n",
    "p.write_text(\"hello\\nworld\")\n",
    "try:\n",
    "    print(p.read_text())\n",
    "except FileNotFoundError:\n",
    "    print(\"file missing\")\n"
   ]
  },
  {
   "cell_type": "markdown",
   "id": "0c3f8004",
   "metadata": {},
   "source": [
    "## 8. Testing quickly with assert"
   ]
  },
  {
   "cell_type": "code",
   "execution_count": null,
   "id": "71af388e",
   "metadata": {},
   "outputs": [],
   "source": [
    "\n",
    "def is_prime(n:int)->bool:\n",
    "    if n<2: return False\n",
    "    for k in range(2,int(n**0.5)+1):\n",
    "        if n%k==0: return False\n",
    "    return True\n",
    "\n",
    "# lightweight tests\n",
    "for n in [2,3,4,17,25]:\n",
    "    print(n, is_prime(n))\n",
    "\n",
    "assert is_prime(2) and is_prime(17) and (not is_prime(1)) and (not is_prime(25))\n",
    "\"All tests passed\"\n"
   ]
  }
 ],
 "metadata": {
  "kernelspec": {
   "display_name": "Python 3",
   "language": "python",
   "name": "python3"
  },
  "language_info": {
   "name": "python",
   "version": "3.x"
  }
 },
 "nbformat": 4,
 "nbformat_minor": 5
}
