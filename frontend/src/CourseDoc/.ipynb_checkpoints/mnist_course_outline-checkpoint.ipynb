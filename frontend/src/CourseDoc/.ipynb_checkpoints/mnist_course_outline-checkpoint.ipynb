{
 "cells": [
  {
   "cell_type": "markdown",
   "id": "70fd3fe8",
   "metadata": {},
   "source": [
    "# MNIST Digit Recognition Course\n",
    "\n",
    "Welcome to the MNIST Handwritten Digit Recognition course. In this notebook, you will learn how to work with the MNIST dataset, build models to classify digits, and evaluate their performance."
   ]
  },
  {
   "cell_type": "markdown",
   "id": "2ddc0198",
   "metadata": {},
   "source": [
    "## 1. Introduction to MNIST Dataset\n",
    "\n",
    "The MNIST dataset consists of 70,000 grayscale images of handwritten digits (0–9), each 28x28 pixels. It is a benchmark dataset for image classification."
   ]
  },
  {
   "cell_type": "markdown",
   "id": "c24fbf29",
   "metadata": {},
   "source": [
    "## 2. Dataset Visualization\n",
    "\n",
    "We will start by loading the MNIST dataset using TensorFlow/Keras and visualizing some sample images."
   ]
  },
  {
   "cell_type": "code",
   "execution_count": null,
   "id": "afbdc712",
   "metadata": {},
   "outputs": [],
   "source": [
    "from tensorflow.keras.datasets import mnist\n",
    "import matplotlib.pyplot as plt\n",
    "\n",
    "(X_train, y_train), (X_test, y_test) = mnist.load_data()\n",
    "\n",
    "# Plot the first 10 images\n",
    "plt.figure(figsize=(10, 1))\n",
    "for i in range(10):\n",
    "    plt.subplot(1, 10, i+1)\n",
    "    plt.imshow(X_train[i], cmap='gray')\n",
    "    plt.axis('off')\n",
    "plt.suptitle('Sample MNIST Digits')\n",
    "plt.show()"
   ]
  },
  {
   "cell_type": "markdown",
   "id": "758e8b61",
   "metadata": {},
   "source": [
    "## 3. Preprocessing and Normalization\n",
    "\n",
    "We will normalize the pixel values and reshape the data for model training."
   ]
  },
  {
   "cell_type": "code",
   "execution_count": null,
   "id": "816f4ac9",
   "metadata": {},
   "outputs": [],
   "source": [
    "# Normalize data\n",
    "X_train = X_train / 255.0\n",
    "X_test = X_test / 255.0\n",
    "\n",
    "# Flatten images for dense network\n",
    "X_train_flat = X_train.reshape(-1, 28*28)\n",
    "X_test_flat = X_test.reshape(-1, 28*28)"
   ]
  },
  {
   "cell_type": "markdown",
   "id": "d270097a",
   "metadata": {},
   "source": [
    "## 4. Building a Simple Neural Network\n",
    "\n",
    "We'll build a basic dense neural network using Keras."
   ]
  },
  {
   "cell_type": "code",
   "execution_count": null,
   "id": "fab361a4",
   "metadata": {},
   "outputs": [],
   "source": [
    "from tensorflow.keras.models import Sequential\n",
    "from tensorflow.keras.layers import Dense\n",
    "\n",
    "model = Sequential([\n",
    "    Dense(128, activation='relu', input_shape=(784,)),\n",
    "    Dense(10, activation='softmax')\n",
    "])\n",
    "\n",
    "model.compile(optimizer='adam', loss='sparse_categorical_crossentropy', metrics=['accuracy'])"
   ]
  },
  {
   "cell_type": "markdown",
   "id": "dc9565f9",
   "metadata": {},
   "source": [
    "## 5. Model Training and Evaluation\n",
    "\n",
    "Train the model and evaluate its accuracy on the test dataset."
   ]
  },
  {
   "cell_type": "code",
   "execution_count": null,
   "id": "e49a0824",
   "metadata": {},
   "outputs": [],
   "source": [
    "model.fit(X_train_flat, y_train, epochs=5, validation_split=0.1)\n",
    "\n",
    "# Evaluate on test data\n",
    "loss, acc = model.evaluate(X_test_flat, y_test)\n",
    "print(f\"Test Accuracy: {acc*100:.2f}%\")"
   ]
  },
  {
   "cell_type": "markdown",
   "id": "a7976c06",
   "metadata": {},
   "source": [
    "## 6. Improving Accuracy: Convolutional Neural Networks (CNN)\n",
    "\n",
    "As a challenge, try building a CNN for better performance. Here's a basic outline."
   ]
  },
  {
   "cell_type": "code",
   "execution_count": null,
   "id": "ce92af8a",
   "metadata": {},
   "outputs": [],
   "source": [
    "from tensorflow.keras.layers import Conv2D, MaxPooling2D, Flatten, Dropout\n",
    "\n",
    "X_train_cnn = X_train.reshape(-1, 28, 28, 1)\n",
    "X_test_cnn = X_test.reshape(-1, 28, 28, 1)\n",
    "\n",
    "cnn = Sequential([\n",
    "    Conv2D(32, (3,3), activation='relu', input_shape=(28,28,1)),\n",
    "    MaxPooling2D((2,2)),\n",
    "    Flatten(),\n",
    "    Dense(64, activation='relu'),\n",
    "    Dense(10, activation='softmax')\n",
    "])\n",
    "\n",
    "cnn.compile(optimizer='adam', loss='sparse_categorical_crossentropy', metrics=['accuracy'])\n",
    "cnn.fit(X_train_cnn, y_train, epochs=5, validation_split=0.1)"
   ]
  },
  {
   "cell_type": "markdown",
   "id": "3c84b0a6",
   "metadata": {},
   "source": [
    "## 7. Saving and Loading the Model\n",
    "\n",
    "Use Keras model saving utilities to persist your trained models."
   ]
  },
  {
   "cell_type": "code",
   "execution_count": null,
   "id": "3346ef25",
   "metadata": {},
   "outputs": [],
   "source": [
    "model.save('mnist_model.h5')\n",
    "# To load: from tensorflow.keras.models import load_model\n",
    "# model = load_model('mnist_model.h5')"
   ]
  },
  {
   "cell_type": "markdown",
   "id": "50cd4617",
   "metadata": {},
   "source": [
    "## 8. Challenge: Build Your Own Classifier\n",
    "\n",
    "Try building a custom architecture, experiment with different optimizers, and see if you can improve accuracy."
   ]
  },
  {
   "cell_type": "markdown",
   "id": "207ccf4c",
   "metadata": {},
   "source": [
    "## 9. Summary and Reflection\n",
    "\n",
    "- You learned how to load and preprocess the MNIST dataset\n",
    "- Built and evaluated a dense network and a CNN\n",
    "- Saved and loaded models for reuse\n",
    "\n",
    "Great work!"
   ]
  }
 ],
 "metadata": {},
 "nbformat": 4,
 "nbformat_minor": 5
}
