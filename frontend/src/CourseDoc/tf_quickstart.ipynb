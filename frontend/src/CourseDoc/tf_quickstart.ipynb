{
 "cells": [
  {
   "cell_type": "markdown",
   "id": "d6825d3a",
   "metadata": {},
   "source": [
    "# TensorFlow Quickstart (Keras)\n",
    "_Last updated: 2025-08-14 08:34 UTC_\n",
    "\n",
    "**Goals**\n",
    "- Build a simple neural network with `tf.keras`\n",
    "- Train on a small dataset (MNIST)\n",
    "- Evaluate and save the model"
   ]
  },
  {
   "cell_type": "code",
   "execution_count": null,
   "id": "147a8860",
   "metadata": {},
   "outputs": [],
   "source": [
    "\n",
    "import os, sys\n",
    "import tensorflow as tf\n",
    "tf.__version__\n"
   ]
  },
  {
   "cell_type": "markdown",
   "id": "19a6408b",
   "metadata": {},
   "source": [
    "## Load Data (MNIST)"
   ]
  },
  {
   "cell_type": "code",
   "execution_count": null,
   "id": "d5d6ebb8",
   "metadata": {},
   "outputs": [],
   "source": [
    "\n",
    "from tensorflow.keras.datasets import mnist\n",
    "(x_train, y_train), (x_test, y_test) = mnist.load_data()\n",
    "x_train = x_train.astype(\"float32\")/255.0\n",
    "x_test = x_test.astype(\"float32\")/255.0\n",
    "x_train = x_train.reshape((-1,28*28))\n",
    "x_test = x_test.reshape((-1,28*28))\n",
    "x_train.shape, x_test.shape\n"
   ]
  },
  {
   "cell_type": "markdown",
   "id": "912c32b9",
   "metadata": {},
   "source": [
    "## Define Model"
   ]
  },
  {
   "cell_type": "code",
   "execution_count": null,
   "id": "348d2c61",
   "metadata": {},
   "outputs": [],
   "source": [
    "\n",
    "from tensorflow import keras\n",
    "from tensorflow.keras import layers\n",
    "\n",
    "model = keras.Sequential([\n",
    "    layers.Input(shape=(784,)),\n",
    "    layers.Dense(256, activation='relu'),\n",
    "    layers.Dropout(0.2),\n",
    "    layers.Dense(10, activation='softmax')\n",
    "])\n",
    "model.compile(optimizer='adam', loss='sparse_categorical_crossentropy', metrics=['accuracy'])\n",
    "model.summary()\n"
   ]
  },
  {
   "cell_type": "markdown",
   "id": "88b513b7",
   "metadata": {},
   "source": [
    "## Train"
   ]
  },
  {
   "cell_type": "code",
   "execution_count": null,
   "id": "718b946f",
   "metadata": {},
   "outputs": [],
   "source": [
    "\n",
    "history = model.fit(x_train, y_train, validation_split=0.1, epochs=3, batch_size=128)\n"
   ]
  },
  {
   "cell_type": "markdown",
   "id": "6c615cc1",
   "metadata": {},
   "source": [
    "## Evaluate & Save"
   ]
  },
  {
   "cell_type": "code",
   "execution_count": null,
   "id": "bcdd94dd",
   "metadata": {},
   "outputs": [],
   "source": [
    "\n",
    "test_loss, test_acc = model.evaluate(x_test, y_test, verbose=0)\n",
    "print(\"Test accuracy:\", test_acc)\n",
    "model.save(\"tf_quickstart_model.keras\")\n",
    "\"Saved to tf_quickstart_model.keras\"\n"
   ]
  }
 ],
 "metadata": {
  "kernelspec": {
   "display_name": "Python 3",
   "language": "python",
   "name": "python3"
  },
  "language_info": {
   "name": "python",
   "version": "3.x"
  }
 },
 "nbformat": 4,
 "nbformat_minor": 5
}
