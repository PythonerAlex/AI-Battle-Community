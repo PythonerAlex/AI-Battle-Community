{
 "cells": [
  {
   "cell_type": "markdown",
   "id": "691c93c9",
   "metadata": {},
   "source": [
    "# Project: Handwritten Digit Recognition (MNIST)\n",
    "_Last updated: 2025-08-14 08:34 UTC_\n",
    "\n",
    "**Learning Outcomes**\n",
    "- Data loading & preprocessing\n",
    "- Baseline vs CNN\n",
    "- Evaluation (confusion matrix, ROC)\n",
    "- Error analysis & improvements"
   ]
  },
  {
   "cell_type": "markdown",
   "id": "2957758b",
   "metadata": {},
   "source": [
    "## 0. Setup"
   ]
  },
  {
   "cell_type": "code",
   "execution_count": null,
   "id": "e6e9b87d",
   "metadata": {},
   "outputs": [],
   "source": [
    "\n",
    "import numpy as np, matplotlib.pyplot as plt\n",
    "from pathlib import Path\n",
    "%matplotlib inline\n"
   ]
  },
  {
   "cell_type": "markdown",
   "id": "91469a80",
   "metadata": {},
   "source": [
    "## 1. Load Data"
   ]
  },
  {
   "cell_type": "code",
   "execution_count": null,
   "id": "90b4100f",
   "metadata": {},
   "outputs": [],
   "source": [
    "\n",
    "from tensorflow.keras.datasets import mnist\n",
    "(x_train, y_train), (x_test, y_test) = mnist.load_data()\n",
    "x_train = x_train.astype(\"float32\")/255.0\n",
    "x_test = x_test.astype(\"float32\")/255.0\n",
    "print(x_train.shape, y_train.shape, x_test.shape, y_test.shape)\n",
    "plt.imshow(x_train[0], cmap='gray'); plt.title(int(y_train[0]))\n"
   ]
  },
  {
   "cell_type": "markdown",
   "id": "8d54b5ce",
   "metadata": {},
   "source": [
    "## 2. Baseline: Logistic Regression / MLP (✅ Exercise)"
   ]
  },
  {
   "cell_type": "code",
   "execution_count": null,
   "id": "1a80695a",
   "metadata": {},
   "outputs": [],
   "source": [
    "\n",
    "# TODO: Build a simple MLP baseline\n",
    "from tensorflow import keras\n",
    "from tensorflow.keras import layers\n",
    "\n",
    "x_train_flat = x_train.reshape((-1, 28*28))\n",
    "x_test_flat = x_test.reshape((-1, 28*28))\n",
    "\n",
    "baseline = keras.Sequential([\n",
    "    layers.Input(shape=(784,)),\n",
    "    layers.Dense(128, activation='relu'),\n",
    "    layers.Dense(10, activation='softmax')\n",
    "])\n",
    "baseline.compile(optimizer='adam', loss='sparse_categorical_crossentropy', metrics=['accuracy'])\n",
    "baseline.fit(x_train_flat, y_train, epochs=3, batch_size=128, validation_split=0.1)\n"
   ]
  },
  {
   "cell_type": "markdown",
   "id": "6f9b8d98",
   "metadata": {},
   "source": [
    "## 3. CNN (✅ Exercise)"
   ]
  },
  {
   "cell_type": "code",
   "execution_count": null,
   "id": "cd98ef71",
   "metadata": {},
   "outputs": [],
   "source": [
    "\n",
    "cnn = keras.Sequential([\n",
    "    layers.Input(shape=(28,28,1)),\n",
    "    layers.Conv2D(32, 3, activation='relu'),\n",
    "    layers.MaxPooling2D(),\n",
    "    layers.Conv2D(64, 3, activation='relu'),\n",
    "    layers.MaxPooling2D(),\n",
    "    layers.Flatten(),\n",
    "    layers.Dense(128, activation='relu'),\n",
    "    layers.Dense(10, activation='softmax')\n",
    "])\n",
    "cnn.compile(optimizer='adam', loss='sparse_categorical_crossentropy', metrics=['accuracy'])\n",
    "\n",
    "x_train_c = x_train[..., None]\n",
    "x_test_c = x_test[..., None]\n",
    "cnn.fit(x_train_c, y_train, epochs=3, batch_size=128, validation_split=0.1)\n"
   ]
  },
  {
   "cell_type": "markdown",
   "id": "805f0df9",
   "metadata": {},
   "source": [
    "## 4. Evaluation & Confusion Matrix"
   ]
  },
  {
   "cell_type": "code",
   "execution_count": null,
   "id": "d73c8e6c",
   "metadata": {},
   "outputs": [],
   "source": [
    "\n",
    "from sklearn.metrics import confusion_matrix, classification_report\n",
    "import seaborn as sns\n",
    "y_pred = np.argmax(cnn.predict(x_test_c, verbose=0), axis=1)\n",
    "cm = confusion_matrix(y_test, y_pred)\n",
    "print(classification_report(y_test, y_pred))\n",
    "plt.figure(figsize=(6,6))\n",
    "sns.heatmap(cm, annot=False, cmap=\"Blues\")\n",
    "plt.title(\"Confusion Matrix\")\n",
    "plt.xlabel(\"Predicted\"); plt.ylabel(\"True\");\n"
   ]
  },
  {
   "cell_type": "markdown",
   "id": "73e81aa7",
   "metadata": {},
   "source": [
    "## 5. Error Analysis (✅ Exercise)\n",
    "- Show 20 most confident wrong predictions\n",
    "- Try data augmentation and compare\n"
   ]
  },
  {
   "cell_type": "code",
   "execution_count": null,
   "id": "86471a21",
   "metadata": {},
   "outputs": [],
   "source": [
    "\n",
    "# TODO: visualize errors\n",
    "wrong_idx = np.where(y_pred != y_test)[0][:20]\n",
    "fig, axes = plt.subplots(4,5, figsize=(10,8))\n",
    "for ax, idx in zip(axes.ravel(), wrong_idx):\n",
    "    ax.imshow(x_test[idx], cmap='gray')\n",
    "    ax.axis('off')\n",
    "plt.suptitle(\"First 20 errors\")\n"
   ]
  }
 ],
 "metadata": {
  "kernelspec": {
   "display_name": "Python 3",
   "language": "python",
   "name": "python3"
  },
  "language_info": {
   "name": "python",
   "version": "3.x"
  }
 },
 "nbformat": 4,
 "nbformat_minor": 5
}
